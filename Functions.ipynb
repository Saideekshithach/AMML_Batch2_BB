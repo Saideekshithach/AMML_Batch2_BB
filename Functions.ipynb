{
 "cells": [
  {
   "cell_type": "markdown",
   "metadata": {},
   "source": [
    "### Functions - A block of reusable code that runs when called\n",
    "#### Built-in\n",
    "#### User defined\n",
    "#### lambda "
   ]
  },
  {
   "cell_type": "markdown",
   "metadata": {},
   "source": [
    "### built-in"
   ]
  },
  {
   "cell_type": "code",
   "execution_count": null,
   "metadata": {},
   "outputs": [],
   "source": [
    "print(\"Hello\",\"Welcome to the session\",sep=':')"
   ]
  },
  {
   "cell_type": "code",
   "execution_count": null,
   "metadata": {},
   "outputs": [],
   "source": [
    "print(\"Python \" + \"is fun\")"
   ]
  },
  {
   "cell_type": "code",
   "execution_count": null,
   "metadata": {},
   "outputs": [],
   "source": [
    "print(\"My phone number is\"+ 90000000)"
   ]
  },
  {
   "cell_type": "code",
   "execution_count": null,
   "metadata": {},
   "outputs": [],
   "source": [
    "print(\"My phone number is \"+ str(90000000))"
   ]
  },
  {
   "cell_type": "code",
   "execution_count": null,
   "metadata": {},
   "outputs": [],
   "source": [
    "### User Defined\n",
    "def greet():\n",
    "    print(\"Hello and Welcome to the session\")\n",
    "greet()"
   ]
  },
  {
   "cell_type": "code",
   "execution_count": null,
   "metadata": {},
   "outputs": [],
   "source": [
    "def greet(name):\n",
    "    print(\"Hello\",name,\"Welcome to the session\")\n",
    "person_name=input(\"Enter your name:\")\n",
    "greet(person_name)"
   ]
  },
  {
   "cell_type": "code",
   "execution_count": null,
   "metadata": {},
   "outputs": [],
   "source": [
    "def addition(num1,num2):\n",
    "    add=num1+num2\n",
    "    return(add)\n",
    "summation=addition(45,21)\n",
    "print(summation)"
   ]
  },
  {
   "cell_type": "code",
   "execution_count": null,
   "metadata": {},
   "outputs": [],
   "source": [
    "def area_of_triangle(base,height):\n",
    "    return(0.5*base*height)\n",
    "\n",
    "area_of_triangle(5,10)"
   ]
  },
  {
   "cell_type": "code",
   "execution_count": null,
   "metadata": {},
   "outputs": [],
   "source": [
    "def greet():\n",
    "    print(\"Hello and welcome\")\n",
    "greet()"
   ]
  },
  {
   "cell_type": "code",
   "execution_count": null,
   "metadata": {},
   "outputs": [],
   "source": [
    "def hello_and_welcome():\n",
    "    print(\"Hello\")\n",
    "    print(\"Welcome\")\n",
    "hello_and_welcome()"
   ]
  },
  {
   "cell_type": "code",
   "execution_count": null,
   "metadata": {},
   "outputs": [],
   "source": [
    "def greet(name):\n",
    "    print(\"Hello\",name,\"Welcome to the Session\")\n",
    "person_name=input(\"Enter your name:\")\n",
    "greet(person_name)\n",
    "\n",
    "person_name=input(\"Enter your name:\")\n",
    "greet()\n",
    "\n"
   ]
  },
  {
   "cell_type": "code",
   "execution_count": null,
   "metadata": {},
   "outputs": [],
   "source": [
    "def addition(num1,num2):\n",
    "    add=num1+num2\n",
    "    return(add)\n",
    "\n",
    "sum=addition(12,13)\n",
    "print(sum)"
   ]
  },
  {
   "cell_type": "code",
   "execution_count": null,
   "metadata": {},
   "outputs": [],
   "source": [
    "def addition(num1,num2):\n",
    "    add=num1+num2\n",
    "    return()\n",
    "sum=addition(12,13)\n",
    "print(sum)\n",
    "\n",
    "x=lambda a,b,c:a+b+c\n",
    "print(x(5,4,2))"
   ]
  },
  {
   "cell_type": "code",
   "execution_count": null,
   "metadata": {},
   "outputs": [],
   "source": [
    "def addition(num1,num2):\n",
    "    num1 = float(input(\"Enter the Number 1 \"))\n",
    "    num2 = float(input(\"Enter the Number 2 \"))\n",
    "    add = num1 + num2\n",
    "    return(add)\n",
    "\n",
    "addition(num1,num2)"
   ]
  },
  {
   "cell_type": "code",
   "execution_count": null,
   "metadata": {},
   "outputs": [],
   "source": [
    "### Passing Arguments\n",
    "\n",
    "def addition(num1,num2):\n",
    "    print(\"First argument is:\",num1)\n",
    "    print(\"Second argument is:\",num2)\n",
    "num1=2\n",
    "num2=10\n",
    "addition(num2,num1)"
   ]
  },
  {
   "cell_type": "markdown",
   "metadata": {},
   "source": [
    "### Lambda Function\n"
   ]
  },
  {
   "cell_type": "code",
   "execution_count": null,
   "metadata": {},
   "outputs": [],
   "source": [
    "lambda arguments:expression"
   ]
  },
  {
   "cell_type": "code",
   "execution_count": null,
   "metadata": {},
   "outputs": [],
   "source": [
    "x=lambda a:a+1\n",
    "print(x(2))"
   ]
  },
  {
   "cell_type": "code",
   "execution_count": null,
   "metadata": {},
   "outputs": [],
   "source": [
    "x=lambda a,b,c:a*b+c\n",
    "print(x(5,6,1))"
   ]
  },
  {
   "cell_type": "code",
   "execution_count": null,
   "metadata": {},
   "outputs": [],
   "source": [
    "\n",
    "### greatest number\n",
    "def greater(num1,num2):\n",
    "    if(num1>num2):\n",
    "        return num1\n",
    "    else:\n",
    "        return num2\n",
    "\n",
    "great=greater(7,8)\n",
    "great"
   ]
  },
  {
   "cell_type": "code",
   "execution_count": null,
   "metadata": {},
   "outputs": [],
   "source": [
    "greater=lambda num1,num2:num1 if num1>num2 else num2\n",
    "greater(7,8)"
   ]
  },
  {
   "cell_type": "code",
   "execution_count": null,
   "metadata": {},
   "outputs": [],
   "source": [
    "\n",
    "li = [5, 7, 22, 97, 54, 62, 77, 23, 73, 61,33,99]\n",
    "final_list = list(filter(lambda x: (x%3 != 0) , li))\n",
    "print(final_list)"
   ]
  },
  {
   "cell_type": "code",
   "execution_count": null,
   "metadata": {},
   "outputs": [],
   "source": [
    "l=[2,3,24,65,45,48,49,56]\n",
    "x=list(filter(lambda x:(x%2== 0),l))\n",
    "print(x)\n"
   ]
  },
  {
   "cell_type": "code",
   "execution_count": null,
   "metadata": {},
   "outputs": [],
   "source": [
    "li = [5, 7, 22, 97, 54, 62, 77, 23, 73, 61]\n",
    "final_list = list(map(lambda x: x**2, li))\n",
    "print(final_list)"
   ]
  },
  {
   "cell_type": "code",
   "execution_count": null,
   "metadata": {},
   "outputs": [],
   "source": [
    "l=[20,30,40,50,60]\n",
    "f=list(map(lambda x: x//10,l))\n",
    "print(f)\n"
   ]
  },
  {
   "cell_type": "code",
   "execution_count": null,
   "metadata": {},
   "outputs": [],
   "source": [
    "from functools import reduce\n",
    "num_list=[1,2,3,4,5]\n",
    "reduce(lambda a,b:a*b,num_list)"
   ]
  },
  {
   "cell_type": "code",
   "execution_count": null,
   "metadata": {},
   "outputs": [],
   "source": [
    "from functools import reduce\n",
    "n=[1,2,3,4]\n",
    "reduce(lambda x,y:x*2+y,n)\n"
   ]
  },
  {
   "cell_type": "code",
   "execution_count": null,
   "metadata": {},
   "outputs": [],
   "source": [
    "s=input(\"what is your name?\")\n",
    "print(\"Hello,\",s,\",nice to meet you!\")\n"
   ]
  },
  {
   "cell_type": "code",
   "execution_count": null,
   "metadata": {},
   "outputs": [],
   "source": [
    "Challenge 2: Counting the number of characters\n",
    "O/p:\n",
    "    \n",
    "What is the input String?AIML\n",
    "AIML has 4 characters"
   ]
  },
  {
   "cell_type": "code",
   "execution_count": 4,
   "metadata": {},
   "outputs": [
    {
     "name": "stdout",
     "output_type": "stream",
     "text": [
      "what is the input string? AIML\n",
      "AIML has 4 characters\n"
     ]
    }
   ],
   "source": [
    "a=input(\"what is the input string? \")\n",
    "b=len(a)\n",
    "print(a ,\"has\",b ,\"characters\")\n"
   ]
  },
  {
   "cell_type": "code",
   "execution_count": null,
   "metadata": {},
   "outputs": [],
   "source": [
    "Challenge :3\n",
    "    \n",
    "    \n",
    "What is your Current age? 25\n",
    "At what age would you like to retire?65\n",
    "You have 40 years left until you can retire.\n",
    "Its 2022,so you caan retire at 2062."
   ]
  }
 ],
 "metadata": {
  "kernelspec": {
   "display_name": "Python 3 (ipykernel)",
   "language": "python",
   "name": "python3"
  },
  "language_info": {
   "codemirror_mode": {
    "name": "ipython",
    "version": 3
   },
   "file_extension": ".py",
   "mimetype": "text/x-python",
   "name": "python",
   "nbconvert_exporter": "python",
   "pygments_lexer": "ipython3",
   "version": "3.8.3"
  }
 },
 "nbformat": 4,
 "nbformat_minor": 4
}
