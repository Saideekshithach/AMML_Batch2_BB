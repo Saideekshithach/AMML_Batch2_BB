{
 "cells": [
  {
   "cell_type": "code",
   "execution_count": null,
   "id": "2ac068ac",
   "metadata": {},
   "outputs": [],
   "source": [
    "my_list=[\"Apple\",\"Mango\",\"Orange\"]\n",
    "my_list"
   ]
  },
  {
   "cell_type": "code",
   "execution_count": null,
   "id": "6897a43b",
   "metadata": {},
   "outputs": [],
   "source": [
    "type(my_list)"
   ]
  },
  {
   "cell_type": "code",
   "execution_count": null,
   "id": "e15764f8",
   "metadata": {},
   "outputs": [],
   "source": [
    "my_tuple=(\"Apple\",\"Mango\",\"Orange\")\n",
    "my_tuple"
   ]
  },
  {
   "cell_type": "code",
   "execution_count": null,
   "id": "5831addf",
   "metadata": {},
   "outputs": [],
   "source": [
    "type(my_tuple)"
   ]
  },
  {
   "cell_type": "code",
   "execution_count": null,
   "id": "3331ae6f",
   "metadata": {},
   "outputs": [],
   "source": [
    "my_tuple=\"Apple\",\"Mango\",\"Orange\"\n",
    "type(my_tuple)"
   ]
  },
  {
   "cell_type": "markdown",
   "id": "f0cad284",
   "metadata": {},
   "source": [
    "### List"
   ]
  },
  {
   "cell_type": "code",
   "execution_count": null,
   "id": "ce6e5916",
   "metadata": {},
   "outputs": [],
   "source": [
    "my_list=[\"AIML\",24,\"Python\",False]"
   ]
  },
  {
   "cell_type": "code",
   "execution_count": null,
   "id": "9b64053d",
   "metadata": {},
   "outputs": [],
   "source": [
    "my_list"
   ]
  },
  {
   "cell_type": "code",
   "execution_count": null,
   "id": "966056f9",
   "metadata": {},
   "outputs": [],
   "source": [
    "type(my_list)"
   ]
  },
  {
   "cell_type": "markdown",
   "id": "8739a409",
   "metadata": {},
   "source": [
    "##### 1. List allows hetrerogenous(Allows multiple data types)"
   ]
  },
  {
   "cell_type": "markdown",
   "id": "7da7b9ca",
   "metadata": {},
   "source": [
    "###### 2.List has square brackets"
   ]
  },
  {
   "cell_type": "code",
   "execution_count": null,
   "id": "8b1cff82",
   "metadata": {},
   "outputs": [],
   "source": [
    "my_list[0]"
   ]
  },
  {
   "cell_type": "code",
   "execution_count": null,
   "id": "ab142931",
   "metadata": {},
   "outputs": [],
   "source": [
    "my_list[1]"
   ]
  },
  {
   "cell_type": "code",
   "execution_count": null,
   "id": "45db2466",
   "metadata": {},
   "outputs": [],
   "source": [
    "my_list[5]"
   ]
  },
  {
   "cell_type": "markdown",
   "id": "9effbc3c",
   "metadata": {},
   "source": [
    "##### 3.Index starts from zero and we can retrieve the element using index"
   ]
  },
  {
   "cell_type": "code",
   "execution_count": null,
   "id": "66203133",
   "metadata": {},
   "outputs": [],
   "source": [
    "mylist_2=list(\"Artificial Intelligence\")\n",
    "mylist_2"
   ]
  },
  {
   "cell_type": "code",
   "execution_count": null,
   "id": "b530c093",
   "metadata": {},
   "outputs": [],
   "source": [
    "empty_list=[]\n",
    "empty_list"
   ]
  },
  {
   "cell_type": "code",
   "execution_count": null,
   "id": "1e01a8c6",
   "metadata": {},
   "outputs": [],
   "source": [
    "empty_list.append(\"Data Science\")\n",
    "empty_list"
   ]
  },
  {
   "cell_type": "code",
   "execution_count": null,
   "id": "b1d0c7b7",
   "metadata": {},
   "outputs": [],
   "source": [
    "my_list.remove(24)\n",
    "my_list"
   ]
  },
  {
   "cell_type": "code",
   "execution_count": null,
   "id": "166eb276",
   "metadata": {},
   "outputs": [],
   "source": [
    "combined_list=my_list+empty_list\n",
    "combined_list"
   ]
  },
  {
   "cell_type": "code",
   "execution_count": null,
   "id": "226487b6",
   "metadata": {},
   "outputs": [],
   "source": [
    "num_list=[1,2,3,4,5]\n",
    "num_list"
   ]
  },
  {
   "cell_type": "code",
   "execution_count": null,
   "id": "810f272d",
   "metadata": {},
   "outputs": [],
   "source": [
    "len(num_list)"
   ]
  },
  {
   "cell_type": "code",
   "execution_count": null,
   "id": "115b10a3",
   "metadata": {},
   "outputs": [],
   "source": [
    "max(num_list)"
   ]
  },
  {
   "cell_type": "code",
   "execution_count": null,
   "id": "dedd802a",
   "metadata": {},
   "outputs": [],
   "source": [
    "min(num_list)"
   ]
  },
  {
   "cell_type": "code",
   "execution_count": null,
   "id": "b98b85d1",
   "metadata": {},
   "outputs": [],
   "source": [
    "len(combined_list)"
   ]
  },
  {
   "cell_type": "code",
   "execution_count": null,
   "id": "b7a438e5",
   "metadata": {},
   "outputs": [],
   "source": [
    "max(combined_list)"
   ]
  },
  {
   "cell_type": "code",
   "execution_count": null,
   "id": "6addc9ab",
   "metadata": {},
   "outputs": [],
   "source": [
    "sum(num_list)"
   ]
  },
  {
   "cell_type": "code",
   "execution_count": null,
   "id": "a9f2f325",
   "metadata": {},
   "outputs": [],
   "source": [
    "sum(combined_list)"
   ]
  },
  {
   "cell_type": "code",
   "execution_count": null,
   "id": "cc9c0656",
   "metadata": {},
   "outputs": [],
   "source": [
    "sum(num_list)/len(num_list)"
   ]
  },
  {
   "cell_type": "code",
   "execution_count": null,
   "id": "80ef709c",
   "metadata": {},
   "outputs": [],
   "source": [
    "### in Keyword\n",
    "1 in num_list"
   ]
  },
  {
   "cell_type": "code",
   "execution_count": null,
   "id": "3c7244a1",
   "metadata": {},
   "outputs": [],
   "source": [
    "6 in num_list"
   ]
  },
  {
   "cell_type": "code",
   "execution_count": null,
   "id": "b69d6fb6",
   "metadata": {},
   "outputs": [],
   "source": [
    "### in Keyword\n",
    "1 not in num_list"
   ]
  },
  {
   "cell_type": "code",
   "execution_count": null,
   "id": "d8861a86",
   "metadata": {},
   "outputs": [],
   "source": [
    "num_list.reverse()\n",
    "num_list"
   ]
  },
  {
   "cell_type": "code",
   "execution_count": null,
   "id": "edd43b99",
   "metadata": {},
   "outputs": [],
   "source": [
    "combined_list.reverse()\n",
    "combined_list"
   ]
  },
  {
   "cell_type": "code",
   "execution_count": null,
   "id": "1017f44b",
   "metadata": {},
   "outputs": [],
   "source": [
    "combined_list.sort()"
   ]
  },
  {
   "cell_type": "code",
   "execution_count": null,
   "id": "98577d12",
   "metadata": {},
   "outputs": [],
   "source": [
    "num_list.sort()"
   ]
  },
  {
   "cell_type": "code",
   "execution_count": null,
   "id": "b790c282",
   "metadata": {},
   "outputs": [],
   "source": [
    "num_list"
   ]
  },
  {
   "cell_type": "code",
   "execution_count": null,
   "id": "4727f72b",
   "metadata": {},
   "outputs": [],
   "source": [
    "l1=[2,6,8,9,10]"
   ]
  },
  {
   "cell_type": "code",
   "execution_count": null,
   "id": "a1538b0b",
   "metadata": {},
   "outputs": [],
   "source": [
    "l1.insert(1,5)"
   ]
  },
  {
   "cell_type": "code",
   "execution_count": null,
   "id": "9889d9fb",
   "metadata": {},
   "outputs": [],
   "source": [
    "l1"
   ]
  },
  {
   "cell_type": "code",
   "execution_count": null,
   "id": "662743d8",
   "metadata": {},
   "outputs": [],
   "source": [
    "l=[\"Apple\",\"Ant\",\"Biscuit\",\"AIML\",\"Venn\",\"Cat\"]\n",
    "l.sort()"
   ]
  },
  {
   "cell_type": "code",
   "execution_count": null,
   "id": "cf4daae7",
   "metadata": {},
   "outputs": [],
   "source": [
    "l"
   ]
  },
  {
   "cell_type": "code",
   "execution_count": null,
   "id": "60f14a05",
   "metadata": {},
   "outputs": [],
   "source": [
    "l1.pop()"
   ]
  },
  {
   "cell_type": "code",
   "execution_count": null,
   "id": "cd930769",
   "metadata": {},
   "outputs": [],
   "source": [
    "l1"
   ]
  },
  {
   "cell_type": "markdown",
   "id": "439b42d9",
   "metadata": {},
   "source": [
    "#### List indexing and slicing"
   ]
  },
  {
   "cell_type": "code",
   "execution_count": 1,
   "id": "29c5540c",
   "metadata": {},
   "outputs": [
    {
     "data": {
      "text/plain": [
       "[2, 4, 5, 8, 9, 10]"
      ]
     },
     "execution_count": 1,
     "metadata": {},
     "output_type": "execute_result"
    }
   ],
   "source": [
    "l2=[2,4,5,8,9,10]\n",
    "l2"
   ]
  },
  {
   "cell_type": "code",
   "execution_count": 2,
   "id": "86294c6d",
   "metadata": {},
   "outputs": [
    {
     "data": {
      "text/plain": [
       "2"
      ]
     },
     "execution_count": 2,
     "metadata": {},
     "output_type": "execute_result"
    }
   ],
   "source": [
    "l2[0]"
   ]
  },
  {
   "cell_type": "code",
   "execution_count": 3,
   "id": "73eafc1f",
   "metadata": {},
   "outputs": [
    {
     "data": {
      "text/plain": [
       "9"
      ]
     },
     "execution_count": 3,
     "metadata": {},
     "output_type": "execute_result"
    }
   ],
   "source": [
    "l2[4]"
   ]
  },
  {
   "cell_type": "code",
   "execution_count": 4,
   "id": "963fd44f",
   "metadata": {},
   "outputs": [
    {
     "data": {
      "text/plain": [
       "9"
      ]
     },
     "execution_count": 4,
     "metadata": {},
     "output_type": "execute_result"
    }
   ],
   "source": [
    "l2[-2]"
   ]
  },
  {
   "cell_type": "code",
   "execution_count": 5,
   "id": "0af8a904",
   "metadata": {},
   "outputs": [
    {
     "ename": "IndexError",
     "evalue": "list index out of range",
     "output_type": "error",
     "traceback": [
      "\u001b[1;31m---------------------------------------------------------------------------\u001b[0m",
      "\u001b[1;31mIndexError\u001b[0m                                Traceback (most recent call last)",
      "\u001b[1;32mC:\\Users\\PREMAL~1\\AppData\\Local\\Temp/ipykernel_34212/4164663031.py\u001b[0m in \u001b[0;36m<module>\u001b[1;34m\u001b[0m\n\u001b[1;32m----> 1\u001b[1;33m \u001b[0ml2\u001b[0m\u001b[1;33m[\u001b[0m\u001b[1;36m10\u001b[0m\u001b[1;33m]\u001b[0m\u001b[1;33m\u001b[0m\u001b[1;33m\u001b[0m\u001b[0m\n\u001b[0m",
      "\u001b[1;31mIndexError\u001b[0m: list index out of range"
     ]
    }
   ],
   "source": [
    "l2[10]"
   ]
  },
  {
   "cell_type": "code",
   "execution_count": 6,
   "id": "03bbb7f8",
   "metadata": {},
   "outputs": [
    {
     "data": {
      "text/plain": [
       "[[1, 2, 3], [4, 5, 6], [7, 8, 9]]"
      ]
     },
     "execution_count": 6,
     "metadata": {},
     "output_type": "execute_result"
    }
   ],
   "source": [
    "nested_list=[[1,2,3],[4,5,6],[7,8,9]]\n",
    "nested_list"
   ]
  },
  {
   "cell_type": "code",
   "execution_count": 7,
   "id": "412c2202",
   "metadata": {},
   "outputs": [
    {
     "data": {
      "text/plain": [
       "3"
      ]
     },
     "execution_count": 7,
     "metadata": {},
     "output_type": "execute_result"
    }
   ],
   "source": [
    "nested_list[0][2]"
   ]
  },
  {
   "cell_type": "code",
   "execution_count": 8,
   "id": "a570d968",
   "metadata": {},
   "outputs": [
    {
     "data": {
      "text/plain": [
       "6"
      ]
     },
     "execution_count": 8,
     "metadata": {},
     "output_type": "execute_result"
    }
   ],
   "source": [
    "nested_list[1][2]"
   ]
  },
  {
   "cell_type": "code",
   "execution_count": 10,
   "id": "e58132e3",
   "metadata": {},
   "outputs": [
    {
     "data": {
      "text/plain": [
       "[[4, 5, 6], [7, 8, 9]]"
      ]
     },
     "execution_count": 10,
     "metadata": {},
     "output_type": "execute_result"
    }
   ],
   "source": [
    "nested_list[1:3]"
   ]
  },
  {
   "cell_type": "code",
   "execution_count": null,
   "id": "90de5911",
   "metadata": {},
   "outputs": [],
   "source": [
    "### append\n",
    "### copy\n",
    "### count\n",
    "### insert\n",
    "### reverse\n",
    "### remove\n",
    "###sort\n",
    "###pop\n",
    "###extend\n",
    "###index\n",
    "###clear\n"
   ]
  },
  {
   "cell_type": "code",
   "execution_count": null,
   "id": "2d15c522",
   "metadata": {},
   "outputs": [],
   "source": []
  },
  {
   "cell_type": "code",
   "execution_count": null,
   "id": "1eeecbfa",
   "metadata": {},
   "outputs": [],
   "source": []
  },
  {
   "cell_type": "code",
   "execution_count": null,
   "id": "3f2d9e25",
   "metadata": {},
   "outputs": [],
   "source": []
  },
  {
   "cell_type": "code",
   "execution_count": 11,
   "id": "f24f6898",
   "metadata": {},
   "outputs": [],
   "source": [
    "### Copying lists\n",
    "list_1=[1,2,3,4,5]\n",
    "list_2=list_1.copy()"
   ]
  },
  {
   "cell_type": "code",
   "execution_count": 12,
   "id": "74ef399c",
   "metadata": {},
   "outputs": [
    {
     "data": {
      "text/plain": [
       "[1, 2, 3, 4, 5]"
      ]
     },
     "execution_count": 12,
     "metadata": {},
     "output_type": "execute_result"
    }
   ],
   "source": [
    "list_2"
   ]
  },
  {
   "cell_type": "code",
   "execution_count": null,
   "id": "1c3fd9bf",
   "metadata": {},
   "outputs": [],
   "source": [
    "list_1.append(6)"
   ]
  },
  {
   "cell_type": "code",
   "execution_count": null,
   "id": "b1f514c1",
   "metadata": {},
   "outputs": [],
   "source": [
    "list_1"
   ]
  },
  {
   "cell_type": "code",
   "execution_count": null,
   "id": "31f06fed",
   "metadata": {},
   "outputs": [],
   "source": [
    "list_2"
   ]
  },
  {
   "cell_type": "code",
   "execution_count": null,
   "id": "b7e5701c",
   "metadata": {},
   "outputs": [],
   "source": [
    "list_1=[1,2,3]\n",
    "list_2=[\"List within a list\",list_1]\n",
    "list3=list_2.copy()\n",
    "list_2\n",
    "\n"
   ]
  },
  {
   "cell_type": "code",
   "execution_count": null,
   "id": "6792dce7",
   "metadata": {},
   "outputs": [],
   "source": [
    "list3"
   ]
  },
  {
   "cell_type": "code",
   "execution_count": null,
   "id": "de05c4df",
   "metadata": {},
   "outputs": [],
   "source": [
    "list_1.append(5)\n",
    "list_2\n"
   ]
  },
  {
   "cell_type": "code",
   "execution_count": null,
   "id": "634b1e86",
   "metadata": {},
   "outputs": [],
   "source": [
    "list3"
   ]
  },
  {
   "cell_type": "code",
   "execution_count": null,
   "id": "c6b8a1f8",
   "metadata": {},
   "outputs": [],
   "source": [
    "import copy"
   ]
  },
  {
   "cell_type": "code",
   "execution_count": null,
   "id": "8272e1e4",
   "metadata": {},
   "outputs": [],
   "source": [
    "list3=copy.deepcopy(list_2)"
   ]
  },
  {
   "cell_type": "code",
   "execution_count": null,
   "id": "7297da1e",
   "metadata": {},
   "outputs": [],
   "source": [
    "list3"
   ]
  },
  {
   "cell_type": "code",
   "execution_count": null,
   "id": "95d2d393",
   "metadata": {},
   "outputs": [],
   "source": []
  }
 ],
 "metadata": {
  "kernelspec": {
   "display_name": "Python 3 (ipykernel)",
   "language": "python",
   "name": "python3"
  },
  "language_info": {
   "codemirror_mode": {
    "name": "ipython",
    "version": 3
   },
   "file_extension": ".py",
   "mimetype": "text/x-python",
   "name": "python",
   "nbconvert_exporter": "python",
   "pygments_lexer": "ipython3",
   "version": "3.8.3"
  }
 },
 "nbformat": 4,
 "nbformat_minor": 5
}
