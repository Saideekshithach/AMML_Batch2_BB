{
 "cells": [
  {
   "cell_type": "markdown",
   "id": "4a4a0f8b",
   "metadata": {},
   "source": [
    "##### How to create a string in Python"
   ]
  },
  {
   "cell_type": "code",
   "execution_count": null,
   "id": "01d2a03f",
   "metadata": {},
   "outputs": [],
   "source": [
    "string_1=\"Let's learn Python\""
   ]
  },
  {
   "cell_type": "code",
   "execution_count": null,
   "id": "76bd87b2",
   "metadata": {},
   "outputs": [],
   "source": [
    "string_2='Let's learn Python'"
   ]
  },
  {
   "cell_type": "code",
   "execution_count": null,
   "id": "ff35e9e6",
   "metadata": {},
   "outputs": [],
   "source": [
    "string_2_corr=\"Let's learn Python\""
   ]
  },
  {
   "cell_type": "code",
   "execution_count": null,
   "id": "d57d280b",
   "metadata": {},
   "outputs": [],
   "source": [
    "string_2_alt='Let\\'s learn Python'"
   ]
  },
  {
   "cell_type": "code",
   "execution_count": null,
   "id": "3cf4fa6c",
   "metadata": {},
   "outputs": [],
   "source": [
    "string_3=\"\"\"The Battle of Heraklion was fought during World War II on the island of Crete between 20 and 29 May 1941. British, Australian and Greek forces defended the port and the airfield of Heraklion against a German paratrooper attack. The German assault was launched without direct air support, and drops occurred over several hours rather than simultaneously. German units dropping near Heraklion (pictured) suffered very high casualties; those dropping further away were severely hampered by Cretan partisans. The German attack failed. When it was renewed the next day it failed again. The fighting then settled into a stalemate. A convoy of German seaborne reinforcements was intercepted by a British naval squadron and scattered. The Germans refocused on the battle for Maleme airfield, which they won, causing the Allies to evacuate. Commonwealth troops were taken off Crete by Allied warships on the night of 28/29 May; at sea, two Allied destroyers were sunk and two cruisers badly damaged, causing many casualties. that Anne Hatchard (pictured) was voted best on ground at the 2022 AFL Women's Grand Final?\n",
    "that merchant trader Constantine Zochonis expanded his company Paterson Zochonis into the Gold Coast in the 1930s?\n",
    "that in 1973, Caroline Rose Foster donated her farm Fosterfields to the Parks Commission of Morris County, New Jersey to be preserved as a functioning farm from 1920... that the British film Strippers vs Werewolves opens with a different band playing the song \"Hungry Like the Wolf\" by Duran Duran?that Indian gynaecologist and reproductive medicine pioneer Baidyanath Chakrabarty, who performed over 4,000 IVF procedures, was a cricket fan who thought Virat Kohli and Ashwin were \"such good boys\"?\n",
    "that Yuki Fumino\\'s relationships with hearing-impaired friends and acquaintances inspired her to create I Hear the Sunspot?\n",
    "that at the age of 26, Lucy Moss became the youngest female director of a Broadway musical before directing a TikTok musical that raised $2 million?\n",
    "that Aroha Bridge changed its name from Hook Ups because fans searching for the show often found pornography instead?\"\"\""
   ]
  },
  {
   "cell_type": "code",
   "execution_count": null,
   "id": "01f0c187",
   "metadata": {},
   "outputs": [],
   "source": [
    "string_3"
   ]
  },
  {
   "cell_type": "markdown",
   "id": "457c8b61",
   "metadata": {},
   "source": [
    "##### String concatenation"
   ]
  },
  {
   "cell_type": "code",
   "execution_count": null,
   "id": "678a0b53",
   "metadata": {},
   "outputs": [],
   "source": [
    "string_1=\"I'm a Data Scientist\"\n",
    "string_2=\"You will become ML Engineers\""
   ]
  },
  {
   "cell_type": "code",
   "execution_count": null,
   "id": "603d1d65",
   "metadata": {},
   "outputs": [],
   "source": [
    "string_concat=string_1+string_2\n",
    "string_concat"
   ]
  },
  {
   "cell_type": "code",
   "execution_count": null,
   "id": "d6263851",
   "metadata": {},
   "outputs": [],
   "source": [
    "string=\"Hi AI Researchers\"\n",
    "string_1=58\n",
    "strin_concat=string+string_1"
   ]
  },
  {
   "cell_type": "markdown",
   "id": "43e9932a",
   "metadata": {},
   "source": [
    "##### String Replication"
   ]
  },
  {
   "cell_type": "code",
   "execution_count": null,
   "id": "5f282f15",
   "metadata": {},
   "outputs": [],
   "source": [
    "'Good Evening ' *5"
   ]
  },
  {
   "cell_type": "code",
   "execution_count": null,
   "id": "c34ce0db",
   "metadata": {},
   "outputs": [],
   "source": [
    "\"Have a nice day \" *10"
   ]
  },
  {
   "cell_type": "code",
   "execution_count": null,
   "id": "76c8bfbf",
   "metadata": {},
   "outputs": [],
   "source": [
    "print(\"Happy birthday to you\\n\"*3+\"Happy birthday to you Dear learner\\n\"+\"Happy birthday to you\\n\"+\"may god bless u Dear\\n\"*2)\n"
   ]
  },
  {
   "cell_type": "markdown",
   "id": "78a9f5b2",
   "metadata": {},
   "source": [
    "##### input()function"
   ]
  },
  {
   "cell_type": "code",
   "execution_count": null,
   "id": "8d2f77fb",
   "metadata": {},
   "outputs": [],
   "source": [
    "name=input(\"Hi!What's your name?\")\n",
    "print(\"Nice to meet you\" +name+\"!\")"
   ]
  },
  {
   "cell_type": "code",
   "execution_count": null,
   "id": "6f65b53e",
   "metadata": {},
   "outputs": [],
   "source": [
    "str=input(\"How old are you?\")\n",
    "print(\"so you are already \"+str+\" years old Eesa!\")\n"
   ]
  },
  {
   "cell_type": "markdown",
   "id": "785ddd60",
   "metadata": {},
   "source": [
    "##### len function"
   ]
  },
  {
   "cell_type": "code",
   "execution_count": null,
   "id": "122d5862",
   "metadata": {},
   "outputs": [],
   "source": [
    "str=\"Hope you are enjoying my session!\"\n",
    "print(\"The length of the string is:\",len(str))"
   ]
  },
  {
   "cell_type": "markdown",
   "id": "ff6999b7",
   "metadata": {},
   "source": [
    "##### filter"
   ]
  },
  {
   "cell_type": "code",
   "execution_count": null,
   "id": "7e88e1da",
   "metadata": {},
   "outputs": [],
   "source": [
    "ages=[25,22,63,19,4,6,12]\n",
    "def myfunc(x):\n",
    "    if x<18:\n",
    "        return False\n",
    "    else:\n",
    "        return True\n"
   ]
  },
  {
   "cell_type": "code",
   "execution_count": null,
   "id": "9b120e95",
   "metadata": {},
   "outputs": [],
   "source": [
    "adults=filter(myfunc,ages)\n",
    "for x in adults:\n",
    "        print(x)"
   ]
  },
  {
   "cell_type": "code",
   "execution_count": null,
   "id": "0fd83f68",
   "metadata": {},
   "outputs": [],
   "source": [
    "num=[2,4,6,15,19,32,16]\n",
    "def fun(x):\n",
    "    if x%2==0:\n",
    "      return True\n",
    "    else:\n",
    "      return False\n",
    "even=filter(fun,num)\n",
    "for x in even:\n",
    "    print(x)\n"
   ]
  },
  {
   "cell_type": "code",
   "execution_count": null,
   "id": "b7084831",
   "metadata": {},
   "outputs": [],
   "source": [
    "ages=[2,4,6,15,19,32,16]\n",
    "def even(x):\n",
    "  if x%2==0:\n",
    "    return True\n",
    "  else:\n",
    "    return False\n",
    "evens=filter(even,ages)\n",
    "for x in evens:\n",
    "  print(x)\n"
   ]
  },
  {
   "cell_type": "markdown",
   "id": "0975a94b",
   "metadata": {},
   "source": [
    "### Functions"
   ]
  },
  {
   "cell_type": "markdown",
   "id": "4e23e910",
   "metadata": {},
   "source": [
    "###### Block of coded instructions that performs action.\n",
    "###### def -keyword followed by a function name():"
   ]
  },
  {
   "cell_type": "code",
   "execution_count": null,
   "id": "490a2e0d",
   "metadata": {},
   "outputs": [],
   "source": [
    "def name():\n",
    "    print(\"Welcome to the Session!\")\n",
    "name()"
   ]
  },
  {
   "cell_type": "code",
   "execution_count": null,
   "id": "12fe6c2d",
   "metadata": {},
   "outputs": [],
   "source": [
    "def name():\n",
    "    print(\"Hi\")\n",
    "name()"
   ]
  },
  {
   "cell_type": "code",
   "execution_count": null,
   "id": "42868daf",
   "metadata": {},
   "outputs": [],
   "source": [
    "def addition(x,y,z):\n",
    "    a=x+y\n",
    "    b=x+z\n",
    "    c=y+z\n",
    "    print(a,b,c)\n",
    "addition(1,2,3)"
   ]
  },
  {
   "cell_type": "code",
   "execution_count": 2,
   "id": "16822ada",
   "metadata": {},
   "outputs": [
    {
     "name": "stdout",
     "output_type": "stream",
     "text": [
      "Product Name:  T-shirt:\n",
      "Price:  15\n",
      "Product Name:  Jeans\n",
      "Price:  45\n"
     ]
    }
   ],
   "source": [
    "def product_info(product_name,price):\n",
    "    print(\"Product Name: \",product_name)\n",
    "    print(\"Price: \",price)\n",
    "product_info(\"T-shirt:\",15)\n",
    "product_info(product_name=\"Jeans\",price=45)\n"
   ]
  },
  {
   "cell_type": "code",
   "execution_count": 4,
   "id": "6877569a",
   "metadata": {},
   "outputs": [
    {
     "name": "stdout",
     "output_type": "stream",
     "text": [
      "freezing point of water in K: 274\n"
     ]
    }
   ],
   "source": [
    "def celsius_to_kelvin(temp_cel):\n",
    "    return temp_cel +273\n",
    "print(\"freezing point of water in K:\",celsius_to_kelvin(1))"
   ]
  },
  {
   "cell_type": "code",
   "execution_count": 9,
   "id": "185a4802",
   "metadata": {},
   "outputs": [
    {
     "name": "stdout",
     "output_type": "stream",
     "text": [
      "product Name laddu:\n",
      "type: sweet\n"
     ]
    }
   ],
   "source": [
    "def product_info(product_name,type):\n",
    "    print(\"product Name\",product_name)\n",
    "    print(\"type:\",type)\n",
    "product_info(\"laddu:\",\"sweet\")\n"
   ]
  },
  {
   "cell_type": "markdown",
   "id": "c1525d8b",
   "metadata": {},
   "source": [
    "##### List"
   ]
  },
  {
   "cell_type": "code",
   "execution_count": 10,
   "id": "6f663947",
   "metadata": {},
   "outputs": [],
   "source": [
    "my_list_1=[1,2,3,4,5]\n",
    "my_list_2=[\"a\",\"e\",\"i\",\"o\",\"u\"]\n",
    "my_list_3=[1,\"hi\",True,\"AI\"]"
   ]
  },
  {
   "cell_type": "code",
   "execution_count": 13,
   "id": "e7bf4e8c",
   "metadata": {},
   "outputs": [
    {
     "data": {
      "text/plain": [
       "[1, 'hi', True, 'AI']"
      ]
     },
     "execution_count": 13,
     "metadata": {},
     "output_type": "execute_result"
    }
   ],
   "source": [
    "my_list_3"
   ]
  },
  {
   "cell_type": "markdown",
   "id": "66ec9cb6",
   "metadata": {},
   "source": [
    "##### List is heterogenous-because it allows multiple data types"
   ]
  },
  {
   "cell_type": "code",
   "execution_count": 15,
   "id": "037deee8",
   "metadata": {},
   "outputs": [
    {
     "data": {
      "text/plain": [
       "1"
      ]
     },
     "execution_count": 15,
     "metadata": {},
     "output_type": "execute_result"
    }
   ],
   "source": [
    "my_list_1[0]"
   ]
  },
  {
   "cell_type": "code",
   "execution_count": 16,
   "id": "f9ab8303",
   "metadata": {},
   "outputs": [
    {
     "data": {
      "text/plain": [
       "True"
      ]
     },
     "execution_count": 16,
     "metadata": {},
     "output_type": "execute_result"
    }
   ],
   "source": [
    "my_list_3[2]"
   ]
  },
  {
   "cell_type": "markdown",
   "id": "4700a9ce",
   "metadata": {},
   "source": [
    "##### we can retrive the elements using index.Index starts from zero."
   ]
  },
  {
   "cell_type": "code",
   "execution_count": 17,
   "id": "af3323f9",
   "metadata": {},
   "outputs": [
    {
     "data": {
      "text/plain": [
       "[1, 2, 10, 4, 5]"
      ]
     },
     "execution_count": 17,
     "metadata": {},
     "output_type": "execute_result"
    }
   ],
   "source": [
    "my_list_1[2]=10\n",
    "my_list_1"
   ]
  },
  {
   "cell_type": "markdown",
   "id": "485c6348",
   "metadata": {},
   "source": [
    "##### Mutable-Make changes"
   ]
  },
  {
   "cell_type": "code",
   "execution_count": null,
   "id": "d892a886",
   "metadata": {},
   "outputs": [],
   "source": []
  }
 ],
 "metadata": {
  "kernelspec": {
   "display_name": "Python 3 (ipykernel)",
   "language": "python",
   "name": "python3"
  },
  "language_info": {
   "codemirror_mode": {
    "name": "ipython",
    "version": 3
   },
   "file_extension": ".py",
   "mimetype": "text/x-python",
   "name": "python",
   "nbconvert_exporter": "python",
   "pygments_lexer": "ipython3",
   "version": "3.8.3"
  }
 },
 "nbformat": 4,
 "nbformat_minor": 5
}
